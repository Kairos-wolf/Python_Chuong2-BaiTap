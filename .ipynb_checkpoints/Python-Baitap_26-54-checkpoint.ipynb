{
 "cells": [
  {
   "cell_type": "code",
   "execution_count": 23,
   "id": "7ec66355",
   "metadata": {},
   "outputs": [
    {
     "name": "stdout",
     "output_type": "stream",
     "text": [
      "Nhập một chữ cái: l\n",
      "Chữ cái đã nhập là phụ âm.\n"
     ]
    }
   ],
   "source": [
    "#Bài 26: Viết một chương trình đọc một chữ cái từ người dùng. Nếu người dùng nhập a, e, i, o hoặc u thì chương trình \n",
    "#hiển thị một thông báo cho biết rằng chữ cái đã nhập là nguyên âm (xét ngôn ngữ Anh). \n",
    "#Nếu người dùng nhập y thì chương trình sẽ hiển thị một thông báo cho biết  có thể y là nguyên âm  hoặc phụ âm. \n",
    "#Nếu không phải các trường hợp trên, chương trình sẽ hiển thị một thông báo cho biết rằng chữ cái là phụ âm\n",
    "\n",
    "letter = input(\"Nhập một chữ cái: \").lower()\n",
    "\n",
    "if letter in ('a', 'e', 'i', 'o', 'u'):\n",
    "    print(\"Chữ cái đã nhập là nguyên âm.\")\n",
    "elif letter == 'y':\n",
    "    print(\"Chữ cái 'y' có thể là nguyên âm hoặc phụ âm.\")\n",
    "elif letter.isalpha() and len(letter) == 1:\n",
    "    print(\"Chữ cái đã nhập là phụ âm.\")\n",
    "else:\n",
    "    print(\"Vui lòng nhập một chữ cái hợp lệ.\")"
   ]
  },
  {
   "cell_type": "code",
   "execution_count": 25,
   "id": "d75beba5",
   "metadata": {},
   "outputs": [
    {
     "name": "stdout",
     "output_type": "stream",
     "text": [
      "Nhập số cạnh của hình (từ 3 đến 10): 7\n",
      "Hình có 7 cạnh là Thất giác.\n"
     ]
    }
   ],
   "source": [
    "#Bài 27: Viết chương trình xác định tên của hình dạng dựa trên số cạnh của nó. \n",
    "#Ví dụ, nhập số 3 thì là hình tam giác, 4 hình tứ giác ,... Yêu cầu: Chương trình hỗ trợ các hình dạng từ 3 đến 10 cạnh. \n",
    "#Nếu số cạnh vượt ra bên ngoài phạm vi này thì chương trình sẽ hiển thị thông báo lỗi thích hợp\n",
    "\n",
    "shapes = {\n",
    "    3: \"Tam giác\",\n",
    "    4: \"Tứ giác\",\n",
    "    5: \"Ngũ giác\",\n",
    "    6: \"Lục giác\",\n",
    "    7: \"Thất giác\",\n",
    "    8: \"Bát giác\",\n",
    "    9: \"Cửu giác\",\n",
    "    10: \"Thập giác\"\n",
    "}\n",
    "\n",
    "num_sides = int(input(\"Nhập số cạnh của hình (từ 3 đến 10): \"))\n",
    "if num_sides in shapes:\n",
    "    print(f\"Hình có {num_sides} cạnh là {shapes[num_sides]}.\")\n",
    "else:\n",
    "    print(\"Lỗi: Số cạnh phải nằm trong khoảng từ 3 đến 10.\")"
   ]
  },
  {
   "cell_type": "code",
   "execution_count": 30,
   "id": "31d3dd09",
   "metadata": {},
   "outputs": [
    {
     "name": "stdout",
     "output_type": "stream",
     "text": [
      "Nhập tên tháng: february\n",
      "Tháng February có 28 hoặc 29 ngày.\n"
     ]
    }
   ],
   "source": [
    "#Bài 28: Số ngày của một tháng thay đổi từ 28 đến 31 ngày. Viết một chương trình đọc tên của một tháng từ người dùng\n",
    "#dưới dạng một chuỗi. Sau đó, chương trình sẽ hiển thị số ngày trong tháng đó\n",
    "#(Chú ý: Số ngày là  28 hoặc 29 ngày để biểu diễn cho tháng 2).\n",
    "\n",
    "days_in_month = {\n",
    "    \"january\": 31, \"february\": \"28 hoặc 29\", \"march\": 31, \"april\": 30,\n",
    "    \"may\": 31, \"june\": 30, \"july\": 31, \"august\": 31,\n",
    "    \"september\": 30, \"october\": 31, \"november\": 30, \"december\": 31\n",
    "}\n",
    "\n",
    "month = input(\"Nhập tên tháng: \").strip().lower()\n",
    "if month in days_in_month:\n",
    "    print(f\"Tháng {month.capitalize()} có {days_in_month[month]} ngày.\")\n",
    "else:\n",
    "    print(\"Lỗi: Vui lòng nhập một tháng hợp lệ.\")"
   ]
  },
  {
   "cell_type": "code",
   "execution_count": 32,
   "id": "ec234790",
   "metadata": {},
   "outputs": [
    {
     "name": "stdout",
     "output_type": "stream",
     "text": [
      "Nhập độ dài cạnh thứ nhất: 6\n",
      "Nhập độ dài cạnh thứ hai: 6\n",
      "Nhập độ dài cạnh thứ ba: 8\n",
      "Tam giác cân.\n"
     ]
    }
   ],
   "source": [
    "#Bài 29: Một hình tam giác có thể được phân loại dựa trên độ dài của các cạnh của nó.\n",
    "#Tất cả ba cạnh của một tam giác đều có cùng độ dài. Một tam giác cân có hai cạnh có cùng độ dài \n",
    "#và một cạnh thứ ba có độ dài khác nhau,... Viết chương trình đọc độ dài ba cạnh của một tam giác từ người dùng.\n",
    "#Sau đó hiển thị một thông báo cho biết loại tam giác.\n",
    "\n",
    "a = float(input(\"Nhập độ dài cạnh thứ nhất: \"))\n",
    "b = float(input(\"Nhập độ dài cạnh thứ hai: \"))\n",
    "c = float(input(\"Nhập độ dài cạnh thứ ba: \"))\n",
    "\n",
    "if a + b > c and a + c > b and b + c > a:\n",
    "    if a == b == c:\n",
    "        print(\"Tam giác đều.\")\n",
    "    elif a == b or a == c or b == c:\n",
    "        print(\"Tam giác cân.\")\n",
    "    else:\n",
    "        print(\"Tam giác thường.\")\n",
    "else:\n",
    "    print(\"Ba cạnh nhập vào không tạo thành tam giác.\")"
   ]
  },
  {
   "cell_type": "code",
   "execution_count": 33,
   "id": "fde28f8d",
   "metadata": {},
   "outputs": [
    {
     "name": "stdout",
     "output_type": "stream",
     "text": [
      "Nhập một năm: 2025\n",
      "2025 không phải là năm nhuận.\n"
     ]
    }
   ],
   "source": [
    "#Bài 30: Hầu hết các năm có 365 ngày. Tuy nhiên, thời gian cần thiết để Trái đất quay quanh Mặt trời thực sự nhiều hơn \n",
    "#thế một chút. Do đó, thêm một ngày, ngày 29 tháng 2, được đưa vào một số năm để khắc phục sự khác biệt này. \n",
    "#Những năm như vậy được gọi là năm nhuận. Các quy tắc để xác định xem một năm có phải là năm nhuận hay không:\n",
    "#Bất kỳ năm nào chia hết cho 400 là một năm nhuận.\n",
    "#Trong số các năm còn lại, bất kỳ năm nào chia hết cho 100 không phải là năm nhuận.\n",
    "#Trong số các năm còn lại, bất kỳ năm nào chia hết cho 4 là một năm nhuận.\n",
    "#Tất cả các năm khác không phải là năm nhuận.\n",
    "#Viết chương trình đọc một năm từ người dùng và hiển thị thông báo cho biết đó có phải là năm nhuận hay không\n",
    "\n",
    "year = int(input(\"Nhập một năm: \"))\n",
    "if (year % 400 == 0) or (year % 100 != 0 and year % 4 == 0):\n",
    "    print(f\"{year} là năm nhuận.\")\n",
    "else:\n",
    "    print(f\"{year} không phải là năm nhuận.\")"
   ]
  },
  {
   "cell_type": "code",
   "execution_count": 34,
   "id": "a7bee713",
   "metadata": {},
   "outputs": [
    {
     "name": "stdout",
     "output_type": "stream",
     "text": [
      "Nhập tin nhắn cần mã hóa: Kairos@KR\n",
      "Tin nhắn đã mã hóa: Ndlurv@NU\n"
     ]
    }
   ],
   "source": [
    "#Bài 31: Một trong những ví dụ đầu tiên về mã hóa được Julius Caesar sử dụng. \n",
    "#Ý tưởng mật mã này rất đơn giản: Mỗi chữ cái trong tin nhắn gốc được dịch chuyển 3 vị trí, tức là A chuyển thành D, \n",
    "#B chuyển thành E, C chuyển thành F, D chuyển thành G, v.v. Tương tự, 03 chữ cái cuối cùng trong \n",
    "#bảng chữ cái được thay thế: X chuyển thành A, Y chuyển thành B và Z chuyển thành C. \n",
    "#Các ký tự không phải chữ cái thì giữ nguyên.\n",
    "#Viết chương trình thực hiện mật mã Caesar, cho phép người dùng nhập vào một tin nhắn và sau đó hiển thị tin nhắn đã được mã hóa.\n",
    "#Đảm bảo rằng chương trình mã hóa cả chữ hoa và chữ thường.\n",
    "\n",
    "message = input(\"Nhập tin nhắn cần mã hóa: \")\n",
    "shift = 3\n",
    "encrypted_message = \"\"\n",
    "\n",
    "for char in message:\n",
    "    if char.isalpha():\n",
    "        shift_base = ord('A') if char.isupper() else ord('a')\n",
    "        encrypted_message += chr((ord(char) - shift_base + shift) % 26 + shift_base)\n",
    "    else:\n",
    "        encrypted_message += char\n",
    "\n",
    "print(f\"Tin nhắn đã mã hóa: {encrypted_message}\")"
   ]
  },
  {
   "cell_type": "code",
   "execution_count": 35,
   "id": "795b7382",
   "metadata": {},
   "outputs": [
    {
     "name": "stdout",
     "output_type": "stream",
     "text": [
      "Bạn muốn mã hóa (E) hay giải mã (D)? D\n",
      "Nhập tin nhắn: Kairos toi ne\n",
      "Nhập số ký tự dịch chuyển: 7\n",
      "Tin nhắn đã giải mã: Dtbkhl mhb gx\n"
     ]
    }
   ],
   "source": [
    "#Bài 32: Mở rộng viết chương trình mã hóa mã Caesar, cho phép người dùng cung cấp tin nhắn và sau đó hiển thị \n",
    "#tin nhắn đã được mã hóa. Chương trình cũng hỗ trợ giải mã (chuyển ngược lại) để có thể sử dụng cả hai chức năng: \n",
    "#mã hóa tin nhắn và giải mã tin nhắn. Và số ký tự dịch chuyển do người dùng nhập.\n",
    "\n",
    "def caesar_cipher(text, shift, encrypt=True):\n",
    "    result = \"\"\n",
    "    for char in text:\n",
    "        if char.isalpha():\n",
    "            shift_base = ord('A') if char.isupper() else ord('a')\n",
    "            shift_amount = shift if encrypt else -shift\n",
    "            result += chr((ord(char) - shift_base + shift_amount) % 26 + shift_base)\n",
    "        else:\n",
    "            result += char\n",
    "    return result\n",
    "\n",
    "option = input(\"Bạn muốn mã hóa (E) hay giải mã (D)? \").strip().upper()\n",
    "message = input(\"Nhập tin nhắn: \")\n",
    "shift = int(input(\"Nhập số ký tự dịch chuyển: \"))\n",
    "\n",
    "if option == 'E':\n",
    "    print(f\"Tin nhắn đã mã hóa: {caesar_cipher(message, shift, True)}\")\n",
    "elif option == 'D':\n",
    "    print(f\"Tin nhắn đã giải mã: {caesar_cipher(message, shift, False)}\")\n",
    "else:\n",
    "    print(\"Lựa chọn không hợp lệ.\")"
   ]
  },
  {
   "cell_type": "code",
   "execution_count": 36,
   "id": "fbf7b46a",
   "metadata": {},
   "outputs": [
    {
     "name": "stdout",
     "output_type": "stream",
     "text": [
      "Nhập một chuỗi: linil\n",
      "Chuỗi 'linil' là Palindrome.\n"
     ]
    }
   ],
   "source": [
    "#Bài 33: Kiểm tra một chuỗi có phải là Palindrom không? \n",
    "#Gợi ý: Một chuỗi là một palindrom nếu nó chứa 2 chuỗi con đối xứng giống nhau. Ví dụ: “anna”, “civic”, “level” và “hannah” \n",
    "#Viết chương trình đọc một chuỗi từ người dùng và sử dụng một vòng lặp để xác định xem đó có phải là một Palindrom hay không. \n",
    "#Hiển thị kết quả, bao gồm một thông báo đầu ra có ý nghĩa.\n",
    "\n",
    "# Kiểm tra Palindrome\n",
    "# Nhập chuỗi từ người dùng\n",
    "s = input(\"Nhập một chuỗi: \")\n",
    "\n",
    "is_palindrome = True\n",
    "n = len(s)\n",
    "\n",
    "# Duyệt từ đầu đến giữa chuỗi\n",
    "for i in range(n // 2):\n",
    "    if s[i] != s[n - 1 - i]:\n",
    "        is_palindrome = False\n",
    "        break\n",
    "\n",
    "# Hiển thị kết quả\n",
    "if is_palindrome:\n",
    "    print(f\"Chuỗi '{s}' là Palindrome.\")\n",
    "else:\n",
    "    print(f\"Chuỗi '{s}' không phải là Palindrome.\")\n"
   ]
  },
  {
   "cell_type": "code",
   "execution_count": 41,
   "id": "6b994f12",
   "metadata": {},
   "outputs": [
    {
     "name": "stdout",
     "output_type": "stream",
     "text": [
      "Nhập số thập phân: 28\n",
      "Số 28 chuyển thành nhị phân là: 11100\n"
     ]
    }
   ],
   "source": [
    "#Bài 34: Viết chương trình chuyển đổi số thập phân thành nhị phân. Đọc số thập phân từ người dùng dưới dạng số nguyên. \n",
    "#Hiển thị kết quả, cùng với một thông điệp thích hợp.\n",
    "\n",
    "# Chuyển đổi số thập phân sang nhị phân\n",
    "# Nhập số thập phân từ người dùng\n",
    "decimal = int(input(\"Nhập số thập phân: \"))\n",
    "\n",
    "if decimal == 0:\n",
    "    binary = \"0\"\n",
    "else:\n",
    "    binary = \"\"\n",
    "    num = decimal\n",
    "    while num > 0:\n",
    "        remainder = num % 2\n",
    "        binary = str(remainder) + binary  # ghép phần dư vào đầu chuỗi\n",
    "        num //= 2\n",
    "\n",
    "# Hiển thị kết quả\n",
    "print(f\"Số {decimal} chuyển thành nhị phân là: {binary}\")"
   ]
  },
  {
   "cell_type": "code",
   "execution_count": 42,
   "id": "f920aa1e",
   "metadata": {},
   "outputs": [
    {
     "name": "stdout",
     "output_type": "stream",
     "text": [
      "Nhập các số, cách nhau bởi dấu phẩy: 7, 2, 8\n",
      "Danh sách các số lẻ: [7]\n"
     ]
    }
   ],
   "source": [
    "#Bài 35: Viết một chương trình tạo ra một danh sách các số lẻ từ các số được người dùng nhập vào. \n",
    "#Giả sử đầu vào là: 1,2,3,4,5,6,7,8,9 thì đầu ra phải là: 1,3,5,7,9\n",
    "\n",
    "# Tạo danh sách các số lẻ từ danh sách các số nhập vào\n",
    "# Nhập danh sách số dưới dạng chuỗi, các số cách nhau bởi dấu phẩy\n",
    "input_str = input(\"Nhập các số, cách nhau bởi dấu phẩy: \")\n",
    "\n",
    "# Tách chuỗi và chuyển đổi từng phần tử thành số nguyên\n",
    "numbers = [int(x.strip()) for x in input_str.split(',')]\n",
    "\n",
    "# Tạo danh sách chứa các số lẻ\n",
    "odd_numbers = []\n",
    "for num in numbers:\n",
    "    if num % 2 != 0:\n",
    "        odd_numbers.append(num)\n",
    "\n",
    "# Hiển thị kết quả\n",
    "print(\"Danh sách các số lẻ:\", odd_numbers)"
   ]
  },
  {
   "cell_type": "code",
   "execution_count": 43,
   "id": "00fb79ec",
   "metadata": {},
   "outputs": [
    {
     "name": "stdout",
     "output_type": "stream",
     "text": [
      "Nhập một số nguyên (nhập 0 để dừng): 5\n",
      "Nhập một số nguyên (nhập 0 để dừng): 7\n",
      "Nhập một số nguyên (nhập 0 để dừng): 1\n",
      "Nhập một số nguyên (nhập 0 để dừng): 25\n",
      "Nhập một số nguyên (nhập 0 để dừng): 17\n",
      "Nhập một số nguyên (nhập 0 để dừng): 8\n",
      "Nhập một số nguyên (nhập 0 để dừng): 0\n",
      "Các số đã nhập theo thứ tự tăng dần:\n",
      "1\n",
      "5\n",
      "7\n",
      "8\n",
      "17\n",
      "25\n"
     ]
    }
   ],
   "source": [
    "#Bài 36: Viết chương trình đọc các số nguyên từ người dùng và lưu trữ chúng trong danh sách. \n",
    "#Chương trình sẽ tiếp tục đọc các giá trị cho đến khi người dùng nhập ký tự 0. \n",
    "#Sau đó, nó sẽ hiển thị tất cả các giá trị được nhập bởi người dùng (ngoại trừ 0) theo thứ tự tăng dần, \n",
    "#với một giá trị xuất hiện trên mỗi dòng. Sử dụng phương thức sắp xếp hoặc hàm được sắp xếp để sắp xếp danh sách.\n",
    "\n",
    "# Đọc các số nguyên, dừng khi nhập 0, sau đó hiển thị theo thứ tự tăng dần\n",
    "# Tạo danh sách rỗng\n",
    "numbers = []\n",
    "\n",
    "while True:\n",
    "    num = int(input(\"Nhập một số nguyên (nhập 0 để dừng): \"))\n",
    "    if num == 0:\n",
    "        break\n",
    "    numbers.append(num)\n",
    "\n",
    "# Sắp xếp danh sách theo thứ tự tăng dần\n",
    "numbers.sort()\n",
    "\n",
    "# Hiển thị kết quả\n",
    "print(\"Các số đã nhập theo thứ tự tăng dần:\")\n",
    "for number in numbers:\n",
    "    print(number)"
   ]
  },
  {
   "cell_type": "code",
   "execution_count": 44,
   "id": "c10bbb3d",
   "metadata": {},
   "outputs": [
    {
     "name": "stdout",
     "output_type": "stream",
     "text": [
      "Nhập từ (để trống để dừng): first\n",
      "Nhập từ (để trống để dừng): second\n",
      "Nhập từ (để trống để dừng): first\n",
      "Nhập từ (để trống để dừng): third\n",
      "Nhập từ (để trống để dừng): second\n",
      "Nhập từ (để trống để dừng):  \n",
      "Nhập từ (để trống để dừng): \n",
      "\n",
      "Các từ đã nhập (không trùng lặp):\n",
      "first\n",
      "second\n",
      "third\n",
      " \n"
     ]
    }
   ],
   "source": [
    "#Bài 37: Tạo một chương trình đọc các từ của người dùng cho đến khi người dùng nhập vào một dòng trống. \n",
    "#Sau khi người dùng nhập vào một dòng trống, chương trình sẽ hiển thị từng từ do người dùng nhập sau khi loại bỏ từ bị trùng. \n",
    "#Các từ phải được hiển thị theo thứ tự mà chúng được nhập vào. \n",
    "#Ví dụ: nếu người dùng nhập:\n",
    "#first\n",
    "#second\n",
    "#first\n",
    "#third\n",
    "#second\n",
    "#Sau đó chương trình sẽ hiển thị:\n",
    "#first \n",
    "#second \n",
    "#third\n",
    "\n",
    "# Tạo danh sách rỗng để lưu các từ duy nhất\n",
    "unique_words = []\n",
    "\n",
    "# Đọc từ người dùng cho đến khi gặp dòng trống\n",
    "while True:\n",
    "    word = input(\"Nhập từ (để trống để dừng): \")\n",
    "    if word == \"\":\n",
    "        break\n",
    "    # Nếu từ chưa có trong danh sách, thêm vào\n",
    "    if word not in unique_words:\n",
    "        unique_words.append(word)\n",
    "\n",
    "# Hiển thị các từ duy nhất theo thứ tự đã nhập\n",
    "print(\"\\nCác từ đã nhập (không trùng lặp):\")\n",
    "for w in unique_words:\n",
    "    print(w)"
   ]
  },
  {
   "cell_type": "code",
   "execution_count": 46,
   "id": "9fc1cbc7",
   "metadata": {},
   "outputs": [
    {
     "name": "stdout",
     "output_type": "stream",
     "text": [
      "Nhập số nguyên (dòng trống để dừng): 3\n",
      "Nhập số nguyên (dòng trống để dừng): -4\n",
      "Nhập số nguyên (dòng trống để dừng): 1\n",
      "Nhập số nguyên (dòng trống để dừng): 0\n",
      "Nhập số nguyên (dòng trống để dừng): -1\n",
      "Nhập số nguyên (dòng trống để dừng): 0\n",
      "Nhập số nguyên (dòng trống để dừng): -2\n",
      "Nhập số nguyên (dòng trống để dừng): \n",
      "\n",
      "Kết quả sau khi sắp xếp:\n",
      "-4 -1 -2 0 0 3 1\n"
     ]
    }
   ],
   "source": [
    "#Bài 38: Tạo một chương trình đọc số nguyên từ người dùng cho đến khi một dòng trống được nhập. \n",
    "#Khi tất cả các số nguyên đã được đọc, chương trình sẽ hiển thị theo quy tắt: tất cả các số âm, \n",
    "#theo sau là tất cả các số không, theo sau là tất cả các số dương. \n",
    "#Trong mỗi nhóm, các số phải được hiển thị theo cùng thứ tự mà người dùng đã nhập. \n",
    "#Ví dụ: nếu người dùng nhập các giá trị: 3, -4, 1, 0, -1, 0 và -2 \n",
    "#Thì chương trình sẽ xuất các giá trị: -4, -1, -2, 0, 0, 3 và 1.\n",
    "\n",
    "# Sắp xếp số theo nhóm (âm, không, dương)\n",
    "# Danh sách chứa tất cả các số được nhập\n",
    "numbers = []\n",
    "\n",
    "# Đọc số nguyên cho đến khi nhập dòng trống\n",
    "while True:\n",
    "    s = input(\"Nhập số nguyên (dòng trống để dừng): \")\n",
    "    if s == \"\":\n",
    "        break\n",
    "    try:\n",
    "        num = int(s)\n",
    "        numbers.append(num)\n",
    "    except ValueError:\n",
    "        print(\"Vui lòng nhập một số nguyên hợp lệ!\")\n",
    "\n",
    "# Tách số theo nhóm\n",
    "negatives = [num for num in numbers if num < 0]\n",
    "zeros = [num for num in numbers if num == 0]\n",
    "positives = [num for num in numbers if num > 0]\n",
    "\n",
    "# Nối các danh sách theo thứ tự: âm, 0, dương\n",
    "ordered_numbers = negatives + zeros + positives\n",
    "\n",
    "# Hiển thị kết quả\n",
    "print(\"\\nKết quả sau khi sắp xếp:\")\n",
    "print(\" \".join(str(num) for num in ordered_numbers))"
   ]
  },
  {
   "cell_type": "code",
   "execution_count": 47,
   "id": "98da40a0",
   "metadata": {},
   "outputs": [
    {
     "name": "stdout",
     "output_type": "stream",
     "text": [
      "Nhập số nguyên n: 8\n",
      "Dictionary tạo ra: {1: 1, 2: 4, 3: 9, 4: 16, 5: 25, 6: 36, 7: 49, 8: 64}\n"
     ]
    }
   ],
   "source": [
    "#Bài 39: Với số nguyên n nhất định, hãy viết chương trình tạo ra một dictionary chứa (i, i*i) \n",
    "#với i là số nguyên từ 1 đến n (bao gồm cả 1 và n) sau đó in ra dictionary này. \n",
    "#Ví dụ: Giả sử số n là 8 thì đầu ra sẽ là: {1: 1, 2: 4, 3: 9, 4: 16, 5: 25, 6: 36, 7: 49, 8: 64}.\n",
    "\n",
    "# Tạo dictionary với (i, i*i)\n",
    "# Đọc số nguyên n từ người dùng\n",
    "n = int(input(\"Nhập số nguyên n: \"))\n",
    "\n",
    "# Tạo dictionary với key là i và value là i*i\n",
    "square_dict = {i: i * i for i in range(1, n + 1)}\n",
    "\n",
    "# Hiển thị dictionary\n",
    "print(\"Dictionary tạo ra:\", square_dict)"
   ]
  },
  {
   "cell_type": "code",
   "execution_count": 48,
   "id": "720fbda4",
   "metadata": {},
   "outputs": [
    {
     "name": "stdout",
     "output_type": "stream",
     "text": [
      "(1, 2, 3, 4, 5)\n",
      "(6, 7, 8, 9, 10)\n"
     ]
    }
   ],
   "source": [
    "#Bài 40: Với tuple (1,2,3,4,5,6,7,8,9,10) cho trước, viết một chương trình in một nửa phần tử đầu tiên trong 1 dòng \n",
    "#và 1 nửa phần tử còn lại trong 1 dòng\n",
    "\n",
    "# Khai báo tuple\n",
    "t = (1, 2, 3, 4, 5, 6, 7, 8, 9, 10)\n",
    "\n",
    "# Xác định vị trí giữa\n",
    "mid = len(t) // 2\n",
    "\n",
    "# In hai nửa của tuple\n",
    "print(t[:mid])  # Nửa đầu\n",
    "print(t[mid:])  # Nửa sau"
   ]
  },
  {
   "cell_type": "code",
   "execution_count": 49,
   "id": "3fcf1074",
   "metadata": {},
   "outputs": [
    {
     "name": "stdout",
     "output_type": "stream",
     "text": [
      "(2, 4, 6, 8, 10)\n"
     ]
    }
   ],
   "source": [
    "#Bài 41: Viết một chương trình để tạo tuple chứa các phần tử là số chẵn từ một tuple (1,2,3,4,5,6,7,8,9,10) cho trước.\n",
    "\n",
    "# Khai báo tuple ban đầu\n",
    "t = (1, 2, 3, 4, 5, 6, 7, 8, 9, 10)\n",
    "\n",
    "# Lọc các số chẵn\n",
    "even_numbers = tuple(x for x in t if x % 2 == 0)\n",
    "\n",
    "# In kết quả\n",
    "print(even_numbers)"
   ]
  },
  {
   "cell_type": "code",
   "execution_count": 50,
   "id": "f8ddbc25",
   "metadata": {},
   "outputs": [
    {
     "name": "stdout",
     "output_type": "stream",
     "text": [
      "40320\n"
     ]
    }
   ],
   "source": [
    "#Bài 42: Viết một chương trình có thể tính giai thừa của một số cho trước. \n",
    "#Kết quả được in thành chuỗi trên một dòng, phân tách bởi dấu phẩy. \n",
    "#Ví dụ, số cho trước là 8 thì kết quả đầu ra phải là 40320. Yêu cầu: định nghĩa hàm tính giai thừa\n",
    "\n",
    "def factorial(n):\n",
    "    if n == 0 or n == 1:\n",
    "        return 1\n",
    "    return n * factorial(n - 1)\n",
    "\n",
    "# Nhập số và in kết quả\n",
    "num = 8\n",
    "print(factorial(num))"
   ]
  },
  {
   "cell_type": "code",
   "execution_count": 51,
   "id": "c84ce2a2",
   "metadata": {},
   "outputs": [
    {
     "name": "stdout",
     "output_type": "stream",
     "text": [
      "world!\n"
     ]
    }
   ],
   "source": [
    "#Bài 43: Định nghĩa một hàm có đầu vào là 2 chuỗi và in chuỗi có độ dài lớn hơn. \n",
    "#Nếu 2 chuỗi có chiều dài như nhau thì in tất cả các chuỗi theo dòng. Sử dụng hàm len() để lấy chiều dài của một chuỗi.\n",
    "\n",
    "def print_longer_string(s1, s2):\n",
    "    if len(s1) > len(s2):\n",
    "        print(s1)\n",
    "    elif len(s1) < len(s2):\n",
    "        print(s2)\n",
    "    else:\n",
    "        print(s1)\n",
    "        print(s2)\n",
    "\n",
    "# Test hàm\n",
    "print_longer_string(\"hello\", \"world!\")"
   ]
  },
  {
   "cell_type": "code",
   "execution_count": 52,
   "id": "77d53b32",
   "metadata": {},
   "outputs": [
    {
     "name": "stdout",
     "output_type": "stream",
     "text": [
      "[1, 4, 9, 16, 25, 36, 49, 64, 81, 100, 121, 144, 169, 196, 225, 256, 289, 324, 361, 400]\n"
     ]
    }
   ],
   "source": [
    "#Bài 44: Định nghĩa một hàm có thể tạo và in danh sách chứa các giá trị bình phương của các số từ 1 đến 20 (tính cả 1 và 20). \n",
    "#Yêu cầu: Sử dụng toán tử ** để lấy giá trị bình phương; Sử dụng range() cho vòng lặp; \n",
    "#Sử dụng list.append() để thêm giá trị vào danh sách.\n",
    "\n",
    "def square_list():\n",
    "    squares = []\n",
    "    for i in range(1, 21):\n",
    "        squares.append(i ** 2)\n",
    "    print(squares)\n",
    "\n",
    "# Gọi hàm\n",
    "square_list()"
   ]
  },
  {
   "cell_type": "code",
   "execution_count": 53,
   "id": "92fd9c5f",
   "metadata": {},
   "outputs": [
    {
     "name": "stdout",
     "output_type": "stream",
     "text": [
      "[1, 4, 9, 16, 25]\n"
     ]
    }
   ],
   "source": [
    "#Bài 45: Định nghĩa một hàm có thể tạo danh sách chứa các giá trị bình phương của các số từ 1 đến 20 (bao gồm cả 1 và 20) \n",
    "#và in 5 phần tử đầu tiên trong danh sách. Yêu cầu: Sử dụng toán tử ** để lấy giá trị bình phương; \n",
    "#Sử dụng range() cho vòng lặp; Sử dụng list.append() để thêm phần tử vào danh sách; Sử dụng [n1:n2] để cắt danh sách.\n",
    "\n",
    "def first_five_squares():\n",
    "    squares = [i ** 2 for i in range(1, 21)]\n",
    "    print(squares[:5])  # Lấy 5 phần tử đầu tiên\n",
    "\n",
    "# Gọi hàm\n",
    "first_five_squares()"
   ]
  },
  {
   "cell_type": "code",
   "execution_count": 2,
   "id": "86ff76ff",
   "metadata": {},
   "outputs": [
    {
     "name": "stdout",
     "output_type": "stream",
     "text": [
      "[256, 289, 324, 361, 400]\n"
     ]
    }
   ],
   "source": [
    "#Bài 46: Định nghĩa một hàm có thể tạo ra một danh sách chứa các giá trị bình phương của các số từ 1 đến 20 \n",
    "#(bao gồm cả 1 và 20), rồi in 5 phần tử cuối cùng trong danh sách.\n",
    "\n",
    "def last_five_squares():\n",
    "    squares = [i ** 2 for i in range(1, 21)]  # Tạo danh sách bình phương\n",
    "    print(squares[-5:])  # In 5 phần tử cuối cùng\n",
    "\n",
    "# Gọi hàm\n",
    "last_five_squares()"
   ]
  },
  {
   "cell_type": "code",
   "execution_count": 2,
   "id": "979b25cf",
   "metadata": {},
   "outputs": [
    {
     "name": "stdout",
     "output_type": "stream",
     "text": [
      "[36, 49, 64, 81, 100, 121, 144, 169, 196, 225, 256, 289, 324, 361, 400]\n"
     ]
    }
   ],
   "source": [
    "#Bài 47: Định nghĩa một hàm có thể tạo danh sách chứa giá trị bình phương của các số từ 1 đến 20 \n",
    "#(bao gồm cả 1 và 20). Sau đó in tất cả các giá trị của danh sách trừ 5 phần tử đầu tiên.\n",
    "\n",
    "def generate_square_list():\n",
    "    squares = [x**2 for x in range(1, 21)]  # Tạo danh sách bình phương từ 1 đến 20\n",
    "    print(squares[5:])  # In tất cả phần tử trừ 5 phần tử đầu tiên\n",
    "\n",
    "generate_square_list()"
   ]
  },
  {
   "cell_type": "code",
   "execution_count": 4,
   "id": "0685bbb9",
   "metadata": {},
   "outputs": [
    {
     "name": "stdout",
     "output_type": "stream",
     "text": [
      "Nhập số thứ nhất: 3\n",
      "Nhập số thứ hai: 27\n",
      "Nhập số thứ ba: 4\n",
      "Giá trị trung bình của 3.0, 27.0, 4.0 là: 11.333333333333334\n"
     ]
    }
   ],
   "source": [
    "#Bài 48: Viết hàm có 03 tham số và trả về giá trị trung bình của các tham số đó.\n",
    "#Bao gồm một chương trình chính đọc ba giá trị từ người dùng và hiển thị giá trị trung bình của chúng.\n",
    "\n",
    "def average(a, b, c):\n",
    "    return (a + b + c) / 3  # Tính trung bình cộng\n",
    "\n",
    "# Chương trình chính\n",
    "num1 = float(input(\"Nhập số thứ nhất: \"))\n",
    "num2 = float(input(\"Nhập số thứ hai: \"))\n",
    "num3 = float(input(\"Nhập số thứ ba: \"))\n",
    "\n",
    "# Gọi hàm và in kết quả\n",
    "avg = average(num1, num2, num3)\n",
    "print(f\"Giá trị trung bình của {num1}, {num2}, {num3} là: {avg}\")"
   ]
  },
  {
   "cell_type": "code",
   "execution_count": 7,
   "id": "cdacc4f2",
   "metadata": {},
   "outputs": [
    {
     "name": "stdout",
     "output_type": "stream",
     "text": [
      "Nhập một số nguyên: 5\n",
      "5 là số nguyên tố.\n"
     ]
    }
   ],
   "source": [
    "#Bài 49: Số nguyên tố là một số nguyên lớn hơn 1 và chỉ chia hết cho 1 và chính nó.\n",
    "#Viết hàm xác định tham số của nó có phải là số nguyên tố hay không, trả về True nếu đúng và False nếu không phải.\n",
    "#Viết chương trình chính đọc số nguyên từ người dùng và hiển thị thông báo cho biết đó có phải là số nguyên tố hay không.\n",
    "\n",
    "def is_prime(n):\n",
    "    \"\"\"Kiểm tra số nguyên tố\"\"\"\n",
    "    if n < 2:\n",
    "        return False\n",
    "    for i in range(2, int(n**0.5) + 1):  # Kiểm tra đến căn bậc hai của n\n",
    "        if n % i == 0:\n",
    "            return False\n",
    "    return True\n",
    "\n",
    "# Chương trình chính\n",
    "num = int(input(\"Nhập một số nguyên: \"))\n",
    "\n",
    "# Gọi hàm kiểm tra và hiển thị kết quả\n",
    "if is_prime(num):\n",
    "    print(f\"{num} là số nguyên tố.\")\n",
    "else:\n",
    "    print(f\"{num} không phải là số nguyên tố.\")"
   ]
  },
  {
   "cell_type": "code",
   "execution_count": 9,
   "id": "07d5394b",
   "metadata": {},
   "outputs": [
    {
     "name": "stdout",
     "output_type": "stream",
     "text": [
      "Mật khẩu ngẫu nhiên: K(&h~.A,s-\n"
     ]
    }
   ],
   "source": [
    "#Bài 50: Viết hàm không có tham số để tạo mật khẩu ngẫu nhiên. Mật khẩu phải có độ dài ngẫu nhiên từ 7 đến 10 ký tự.\n",
    "#Mỗi ký tự phải được chọn ngẫu nhiên từ các vị trí 33 đến 126 trong bảng ASCII. Hàm sẽ trả về mật khẩu được tạo ngẫu nhiên.\n",
    "#Hiển thị mật khẩu được tạo ngẫu nhiên trong chương trình chính.\n",
    "\n",
    "import random\n",
    "\n",
    "def generate_password():\n",
    "    \"\"\"Tạo mật khẩu ngẫu nhiên có độ dài từ 7 đến 10 ký tự\"\"\"\n",
    "    length = random.randint(7, 10)  # Chọn độ dài ngẫu nhiên từ 7 đến 10\n",
    "    password = ''.join(chr(random.randint(33, 126)) for _ in range(length))  # Tạo mật khẩu ngẫu nhiên\n",
    "    return password\n",
    "\n",
    "# Chương trình chính\n",
    "random_password = generate_password()\n",
    "print(f\"Mật khẩu ngẫu nhiên: {random_password}\")"
   ]
  },
  {
   "cell_type": "code",
   "execution_count": 10,
   "id": "a87cbf62",
   "metadata": {},
   "outputs": [
    {
     "name": "stdout",
     "output_type": "stream",
     "text": [
      "Nhập mật khẩu: Kairos2003@KR\n",
      "Mật khẩu mạnh!\n"
     ]
    }
   ],
   "source": [
    "#Bài 51: Viết một hàm có một tham số password để xác định xem mật khẩu có tốt hay không.\n",
    "#Một mật khẩu tốt là một mật khẩu dài ít nhất 8 ký tự và chứa ít nhất một chữ cái viết hoa, ít nhất một chữ cái viết thường\n",
    "#và ít nhất một số. Hàm sẽ trả về True nếu mật khẩu là tốt, ngược thì nó sẽ trả về Fales.\n",
    "#Chương trình có một chương trình chính đọc mật khẩu từ người dùng và hiển thị xem nó có tốt hay không.\n",
    "\n",
    "def is_strong_password(password):\n",
    "    \"\"\"Kiểm tra mật khẩu có đủ mạnh hay không\"\"\"\n",
    "    if len(password) < 8:\n",
    "        return False\n",
    "\n",
    "    has_upper = any(char.isupper() for char in password)  # Kiểm tra chữ hoa\n",
    "    has_lower = any(char.islower() for char in password)  # Kiểm tra chữ thường\n",
    "    has_digit = any(char.isdigit() for char in password)  # Kiểm tra số\n",
    "\n",
    "    return has_upper and has_lower and has_digit\n",
    "\n",
    "# Chương trình chính\n",
    "password = input(\"Nhập mật khẩu: \")\n",
    "\n",
    "# Kiểm tra mật khẩu và hiển thị kết quả\n",
    "if is_strong_password(password):\n",
    "    print(\"Mật khẩu mạnh!\")\n",
    "else:\n",
    "    print(\"Mật khẩu yếu. Hãy sử dụng ít nhất 8 ký tự, bao gồm chữ hoa, chữ thường và số.\")\n"
   ]
  },
  {
   "cell_type": "code",
   "execution_count": 18,
   "id": "b74fb534",
   "metadata": {},
   "outputs": [
    {
     "name": "stdout",
     "output_type": "stream",
     "text": [
      "Các số hoàn hảo từ 1 đến 10.000 là:\n",
      "6\n",
      "28\n",
      "496\n",
      "8128\n"
     ]
    }
   ],
   "source": [
    "#Bài 52: Một số nguyên, n, được cho là hoàn hảo khi tổng của tất cả các ước số của n bằng n. \n",
    "#Ví dụ, 28 là một số hoàn hảo vì các ước số của nó là 1, 2, 4, 7 và 14. Tổng 1 + 2 + 4 + 7 + 14 = 28.\n",
    "#Viết hàm xác định xem số nguyên dương có hoàn hảo hay không.\n",
    "\n",
    "def is_perfect(n):\n",
    "    \"\"\"Kiểm tra xem số n có phải là số hoàn hảo hay không.\"\"\"\n",
    "    if n < 2:\n",
    "        return False  # Số nhỏ hơn 2 không thể là số hoàn hảo\n",
    "\n",
    "    # Tính tổng các ước số thực sự của n (trừ chính nó)\n",
    "    sum_divisors = sum(i for i in range(1, n) if n % i == 0)\n",
    "\n",
    "    return sum_divisors == n  # Nếu tổng ước số bằng n, đó là số hoàn hảo\n",
    "\n",
    "# Chương trình chính: Tìm các số hoàn hảo từ 1 đến 10.000\n",
    "print(\"Các số hoàn hảo từ 1 đến 10.000 là:\")\n",
    "for num in range(1, 10001):\n",
    "    if is_perfect(num):\n",
    "        print(num)"
   ]
  },
  {
   "cell_type": "code",
   "execution_count": 19,
   "id": "0ce8dbf7",
   "metadata": {},
   "outputs": [
    {
     "name": "stdout",
     "output_type": "stream",
     "text": [
      "[[], [3], [2], [2, 3], [1], [1, 3], [1, 2], [1, 2, 3]]\n"
     ]
    }
   ],
   "source": [
    "#Bài 53: Viết một hàm trả về một danh sách chứa mọi danh sách con có thể có của danh sách.\n",
    "#Ví dụ: danh sách con của [1, 2, 3] là [], [1], [2], [3], [1, 2], [2, 3] và [1, 2, 3].\n",
    "\n",
    "def all_subsets_recursive(lst):\n",
    "    \"\"\"Trả về danh sách chứa tất cả danh sách con của lst bằng đệ quy.\"\"\"\n",
    "    if not lst:\n",
    "        return [[]]  # Trường hợp cơ bản: danh sách rỗng có một tập con là chính nó\n",
    "    first = lst[0]\n",
    "    rest_subsets = all_subsets_recursive(lst[1:])  # Gọi đệ quy với phần còn lại của danh sách\n",
    "    return rest_subsets + [[first] + subset for subset in rest_subsets]  # Gộp tập con với first vào\n",
    "\n",
    "# Chạy thử\n",
    "print(all_subsets_recursive([1, 2, 3]))"
   ]
  },
  {
   "cell_type": "code",
   "execution_count": 21,
   "id": "637ebe83",
   "metadata": {},
   "outputs": [
    {
     "name": "stdout",
     "output_type": "stream",
     "text": [
      "Nhập danh sách từ, cách nhau bởi dấu cách: Kaiz Kairos Wolf Kajzor\n",
      "Danh sách định dạng: Kaiz, Kairos, Wolf and Kajzor\n"
     ]
    }
   ],
   "source": [
    "#Bài 54: Khi viết ra một danh sách các từ bằng tiếng Anh, người ta thường phân tách các từ bằng dấu phẩy.\n",
    "#Ngoài ra, thêm từ “and” trước từ cuối cùng, trừ khi danh sách chỉ chứa một từ. Hãy xem xét bốn danh sách sau đây:\n",
    "#\tapples\n",
    "#\tapples and oranges\n",
    "#\tapples, oranges and bananas\n",
    "#\tapples, oranges, bananas and lemons\n",
    "#Viết hàm lấy danh sách các chuỗi làm tham số của nó. Hàm sẽ trả về một chuỗi chứa tất cả các từ trong danh sách,\n",
    "#được định dạng theo cách được mô tả như trên. Hàm hoạt động cho danh sách có độ dài bất kỳ. \n",
    "#Code bao gồm một chương trình chính đọc một số từ do người dùng nhập vào,\n",
    "#định dạng chúng bằng cách gọi hàm và sau đó hiển thị kết quả mà hàm trả về\n",
    "\n",
    "def format_word_list(words):\n",
    "    \"\"\"Định dạng danh sách từ theo kiểu tiếng Anh (dùng dấu phẩy và 'and').\"\"\"\n",
    "    if not words:\n",
    "        return \"\"  # Trả về chuỗi rỗng nếu danh sách trống\n",
    "    elif len(words) == 1:\n",
    "        return words[0]  # Nếu chỉ có 1 từ, trả về từ đó\n",
    "    else:\n",
    "        return \", \".join(words[:-1]) + \" and \" + words[-1]  # Ghép các từ theo định dạng yêu cầu\n",
    "\n",
    "# Chương trình chính\n",
    "words = input(\"Nhập danh sách từ, cách nhau bởi dấu cách: \").split()  # Nhập và tách thành danh sách\n",
    "\n",
    "formatted_string = format_word_list(words)  # Gọi hàm để định dạng\n",
    "print(\"Danh sách định dạng:\", formatted_string)"
   ]
  }
 ],
 "metadata": {
  "kernelspec": {
   "display_name": "Python 3 (ipykernel)",
   "language": "python",
   "name": "python3"
  },
  "language_info": {
   "codemirror_mode": {
    "name": "ipython",
    "version": 3
   },
   "file_extension": ".py",
   "mimetype": "text/x-python",
   "name": "python",
   "nbconvert_exporter": "python",
   "pygments_lexer": "ipython3",
   "version": "3.11.5"
  }
 },
 "nbformat": 4,
 "nbformat_minor": 5
}
